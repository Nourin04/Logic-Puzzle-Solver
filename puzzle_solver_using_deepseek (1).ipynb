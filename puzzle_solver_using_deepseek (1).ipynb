{
  "nbformat": 4,
  "nbformat_minor": 0,
  "metadata": {
    "colab": {
      "provenance": [],
      "gpuType": "T4"
    },
    "kernelspec": {
      "name": "python3",
      "display_name": "Python 3"
    },
    "language_info": {
      "name": "python"
    },
    "accelerator": "GPU"
  },
  "cells": [
    {
      "cell_type": "code",
      "execution_count": 1,
      "metadata": {
        "id": "WKrK9B25r1nK"
      },
      "outputs": [],
      "source": [
        "!pip install gradio torch pillow easyocr -q groq"
      ]
    },
    {
      "cell_type": "code",
      "source": [
        "import easyocr\n",
        "import groq\n",
        "\n",
        "reader = easyocr.Reader(['en'])\n",
        "GROQ_API_KEY = \"your_api_key\"\n",
        "\n",
        "client = groq.Client(api_key=GROQ_API_KEY)\n",
        "\n",
        "def solve_puzzle(image):\n",
        "  image_path = \"image.png\"\n",
        "  image.save(image_path)\n",
        "\n",
        "  results = reader.readtext(image_path)\n",
        "  extracted_text = \" \".join([res[1] for res in results])\n",
        "\n",
        "  extracted_text = extracted_text.replace(\"??\", \"?\")\n",
        "\n",
        "\n",
        "  if \"?\" not in extracted_text:\n",
        "    extracted_text += \"?\"\n",
        "\n",
        "  print(\"Extracted text=\" , extracted_text)\n",
        "\n",
        "  refined_text = extracted_text.replace('x','*').replace('X','*').replace('=',' = ').strip()\n",
        "  print(\"Refined text=\", refined_text)\n",
        "\n",
        "\n",
        "  puzzle_prompt = (f\"You are an AI specializing in solving puzzles. Analyze the uploaded image, identify the math problem, solve it, and provide only the final answer in fewer than 2000 tokens.\"\n",
        "                   f\"\\nPuzzle:\\n {refined_text}\\n\"\n",
        "                  \"Format your response stricly as follows:\\n\"\n",
        "                  \"1. **Given equation**\\n   -(original equations)\\n\"\n",
        "                  \"2.**Pattern identified**\\n -(explain the hidden logic)\\n\"\n",
        "                  \"3.**Step by step calculation**\\n -For(input values)\\n   (finding the answer)\"\n",
        "                  \"4.**Final answer**\\n     -(Answer=X)\\n \" )\n",
        "\n",
        "\n",
        "  response = client.chat.completions.create(\n",
        "      model=\"deepseek-r1-distill-llama-70b\",\n",
        "      messages=[{\"role\":\"user\", \"content\": puzzle_prompt}],\n",
        "      max_tokens=2000,\n",
        "      temperature=0\n",
        "\n",
        "  )\n",
        "\n",
        "  if response and response.choices:\n",
        "    return response.choices[0].message.content.strip()\n",
        "  else:\n",
        "    return \"No response from the model\"\n",
        "\n",
        "\n"
      ],
      "metadata": {
        "id": "RtbnwI5dsXuK"
      },
      "execution_count": 2,
      "outputs": []
    },
    {
      "cell_type": "code",
      "source": [
        "from PIL import Image\n",
        "img=Image.open(\"/content/iamge1.jpg\")"
      ],
      "metadata": {
        "id": "jfdcQfTxuknN"
      },
      "execution_count": 3,
      "outputs": []
    },
    {
      "cell_type": "code",
      "source": [
        "print(solve_puzzle(img))"
      ],
      "metadata": {
        "colab": {
          "base_uri": "https://localhost:8080/"
        },
        "id": "lJdwiOypu4G9",
        "outputId": "1cefe497-c2ae-47e2-bef4-82f289d48638"
      },
      "execution_count": 4,
      "outputs": [
        {
          "output_type": "stream",
          "name": "stdout",
          "text": [
            "Extracted text= 2 + 7 = 27 4+4 =24 5+ 9=42 6+ 0 = ?\n",
            "Refined text= 2 + 7  =  27 4+4  = 24 5+ 9 = 42 6+ 0  =  ?\n",
            "<think>\n",
            "Okay, so I've got this math puzzle here, and I need to figure out the pattern to solve it. Let me look at the equations provided:\n",
            "\n",
            "2 + 7 = 27  \n",
            "4 + 4 = 24  \n",
            "5 + 9 = 42  \n",
            "6 + 0 = ?\n",
            "\n",
            "Hmm, at first glance, these don't seem to follow the usual addition rules because 2 + 7 is 9, not 27. So there must be some other pattern or rule that I'm missing.\n",
            "\n",
            "Let me break it down. Maybe it's not just simple addition. Perhaps each number is being manipulated in some way before adding. Let's take the first equation: 2 + 7 = 27.\n",
            "\n",
            "If I look at the digits separately, maybe I can find a pattern. Let's see:\n",
            "\n",
            "- For 2 + 7: 2 and 7. Maybe 2 squared plus 7? 2² is 4, plus 7 is 11. That's not 27.\n",
            "- Or maybe 2 multiplied by 7: 2*7=14. Still not 27.\n",
            "- Wait, 2^3 is 8, and 7 is 7. 8 + 7 is 15. Not 27.\n",
            "- Maybe 2 + 7 equals 9, and then 9 multiplied by 3 is 27. But why 3? That seems arbitrary.\n",
            "\n",
            "Let me try the second equation: 4 + 4 = 24.\n",
            "\n",
            "- 4 + 4 is 8. 8 multiplied by 3 is 24. Oh, that's the same multiplier as before. So maybe the sum is multiplied by 3?\n",
            "\n",
            "Wait, let's check the third equation: 5 + 9 = 42.\n",
            "\n",
            "- 5 + 9 is 14. 14 multiplied by 3 is 42. Yes, that fits.\n",
            "\n",
            "So the pattern seems to be that the sum of the two numbers is multiplied by 3. Let's test this with the first equation again: 2 + 7 = 9, 9*3=27. Yep, that works.\n",
            "\n",
            "So applying this to the last equation: 6 + 0 = 6. 6*3=18.\n",
            "\n",
            "Wait, but let me make sure there isn't another pattern. Maybe it's something else like concatenation or exponents.\n",
            "\n",
            "Looking again:\n",
            "\n",
            "- 2 + 7: 2 and 7. If I concatenate them, it's 27. Oh, that's exactly the result. So maybe the pattern is just putting the two numbers together.\n",
            "\n",
            "Let's check the second equation: 4 + 4. Concatenating gives 44, but the result is 24. That doesn't match.\n",
            "\n",
            "Hmm, so maybe it's not concatenation. Let me think again.\n",
            "\n",
            "Wait, maybe it's the product of the two numbers plus their sum. Let's try:\n",
            "\n",
            "For 2 + 7: 2*7=14, plus 2+7=9, total 23. Not 27.\n",
            "\n",
            "Alternatively, maybe (2 + 7) * 3 = 27. That works, as we saw before.\n",
            "\n",
            "Similarly, (4 + 4) * 3 = 24, and (5 + 9) * 3 = 42.\n",
            "\n",
            "So the pattern is sum multiplied by 3.\n",
            "\n",
            "Therefore, for 6 + 0: (6 + 0) * 3 = 6 * 3 = 18.\n",
            "\n",
            "I think that's the correct approach.\n",
            "</think>\n",
            "\n",
            "1. **Given equation**  \n",
            "   2 + 7 = 27  \n",
            "   4 + 4 = 24  \n",
            "   5 + 9 = 42  \n",
            "   6 + 0 = ?\n",
            "\n",
            "2. **Pattern identified**  \n",
            "   The pattern involves multiplying the sum of the two numbers by 3.\n",
            "\n",
            "3. **Step by step calculation**  \n",
            "   - For 6 + 0:  \n",
            "     Sum = 6 + 0 = 6  \n",
            "     Multiply by 3: 6 * 3 = 18\n",
            "\n",
            "4. **Final answer**  \n",
            "   18\n"
          ]
        }
      ]
    },
    {
      "cell_type": "code",
      "source": [
        "img3=Image.open(\"/content/image4.jpeg\")\n",
        "print(solve_puzzle(img3))\n"
      ],
      "metadata": {
        "colab": {
          "base_uri": "https://localhost:8080/"
        },
        "id": "xqirBR1D0MOm",
        "outputId": "93fdc5b7-afce-4997-9da3-39fe5d2e65f5"
      },
      "execution_count": 5,
      "outputs": [
        {
          "output_type": "stream",
          "name": "stdout",
          "text": [
            "Extracted text= Simple Math Puzzle 1+4=5 2 + 5 = 12 3 + 6 = 21 8 + 11 = ?\n",
            "Refined text= Simple Math Puzzle 1+4 = 5 2 + 5  =  12 3 + 6  =  21 8 + 11  =  ?\n",
            "<think>\n",
            "Okay, so I've got this math puzzle here, and I need to figure out the pattern to solve it. Let me look at the equations given:\n",
            "\n",
            "1 + 4 = 5  \n",
            "2 + 5 = 12  \n",
            "3 + 6 = 21  \n",
            "8 + 11 = ?\n",
            "\n",
            "Hmm, at first glance, these don't seem to follow the usual addition rules. Let me check each one to see if there's a hidden pattern.\n",
            "\n",
            "Starting with the first equation: 1 + 4 equals 5. Well, that's straightforward because 1 plus 4 is indeed 5. So, nothing unusual there.\n",
            "\n",
            "Moving on to the second equation: 2 + 5 equals 12. Wait a minute, 2 plus 5 is 7, not 12. That's different. Maybe there's another operation involved besides addition. Let me think. Could it be multiplication? 2 times 5 is 10, which is still not 12. Hmm.\n",
            "\n",
            "What if I try adding the numbers and then doing something else? Let's see: 2 + 5 is 7. Maybe adding the two numbers and then adding their product? 2 + 5 is 7, and 2 times 5 is 10. Adding those together gives 17, which is not 12. That doesn't fit.\n",
            "\n",
            "Wait, maybe it's the sum of the two numbers multiplied by one of them. Let's try that. For the second equation: (2 + 5) times 2 is 7 times 2, which is 14. Not 12. How about (2 + 5) times something else? 7 times what gives 12? 12 divided by 7 is about 1.714, which doesn't seem helpful.\n",
            "\n",
            "Let me try another approach. Maybe it's the sum of the squares of the numbers. 2 squared is 4, and 5 squared is 25. Adding those gives 29, which is way more than 12. That's not it either.\n",
            "\n",
            "Wait, maybe it's the product of the two numbers plus their sum. So, 2 times 5 is 10, plus 2 plus 5 is 7, so 10 plus 7 is 17. Still not 12.\n",
            "\n",
            "Hmm, maybe it's something else. Let me look at the third equation: 3 + 6 equals 21. Normally, 3 plus 6 is 9, but here it's 21. Let me see if I can find a pattern between these numbers.\n",
            "\n",
            "Looking at the first equation again: 1 + 4 = 5. Maybe it's 1 times 4 plus 1, which is 5. Let's test that with the second equation: 2 times 5 is 10, plus 2 is 12. Oh, that works! Let me check the third equation: 3 times 6 is 18, plus 3 is 21. Perfect, that fits.\n",
            "\n",
            "So the pattern seems to be: multiply the first number by the second number, then add the first number again. In other words, it's (a * b) + a, which can also be written as a*(b + 1).\n",
            "\n",
            "Now, applying this to the last equation: 8 + 11. Using the pattern, it should be 8 * 11 + 8. Let's calculate that: 8 times 11 is 88, plus 8 is 96.\n",
            "\n",
            "Wait, let me double-check to make sure I didn't make a mistake. 8*11 is indeed 88, and adding 8 gives 96. Yep, that seems correct.\n",
            "\n",
            "So, the final answer should be 96.\n",
            "</think>\n",
            "\n",
            "1. **Given equation**  \n",
            "   1 + 4 = 5  \n",
            "   2 + 5 = 12  \n",
            "   3 + 6 = 21  \n",
            "   8 + 11 = ?\n",
            "\n",
            "2. **Pattern identified**  \n",
            "   The pattern is that the result is calculated by multiplying the two numbers and then adding the first number again. Mathematically, it's expressed as:  \n",
            "   Result = (a × b) + a\n",
            "\n",
            "3. **Step by step calculation**  \n",
            "   For 8 + 11:  \n",
            "   - Multiply 8 and 11: 8 × 11 = 88  \n",
            "   - Add the first number (8) to the result: 88 + 8 = 96\n",
            "\n",
            "4. **Final answer**  \n",
            "   96\n"
          ]
        }
      ]
    },
    {
      "cell_type": "code",
      "source": [
        "import gradio as gr\n",
        "\n",
        "interface = gr.Interface(\n",
        "    fn = solve_puzzle,\n",
        "    inputs = gr.Image(type = \"pil\"),\n",
        "    outputs = \"text\",\n",
        "    title = \"Logic Puzzle Solver\",\n",
        "    description = \"Upload an image of a logic puzzle and get the solution.\"\n",
        ")\n",
        "interface.launch(debug=\"True\")\n"
      ],
      "metadata": {
        "colab": {
          "base_uri": "https://localhost:8080/",
          "height": 687
        },
        "id": "GqRdIqE40yKI",
        "outputId": "b74b524c-c7ad-45e0-8ca3-eb6602b3f7f4"
      },
      "execution_count": 6,
      "outputs": [
        {
          "output_type": "stream",
          "name": "stdout",
          "text": [
            "Running Gradio in a Colab notebook requires sharing enabled. Automatically setting `share=True` (you can turn this off by setting `share=False` in `launch()` explicitly).\n",
            "\n",
            "Colab notebook detected. This cell will run indefinitely so that you can see errors and logs. To turn off, set debug=False in launch().\n",
            "* Running on public URL: https://9de889d7d5d2cf1d3c.gradio.live\n",
            "\n",
            "This share link expires in 72 hours. For free permanent hosting and GPU upgrades, run `gradio deploy` from the terminal in the working directory to deploy to Hugging Face Spaces (https://huggingface.co/spaces)\n"
          ]
        },
        {
          "output_type": "display_data",
          "data": {
            "text/plain": [
              "<IPython.core.display.HTML object>"
            ],
            "text/html": [
              "<div><iframe src=\"https://9de889d7d5d2cf1d3c.gradio.live\" width=\"100%\" height=\"500\" allow=\"autoplay; camera; microphone; clipboard-read; clipboard-write;\" frameborder=\"0\" allowfullscreen></iframe></div>"
            ]
          },
          "metadata": {}
        },
        {
          "output_type": "stream",
          "name": "stdout",
          "text": [
            "Keyboard interruption in main thread... closing server.\n",
            "Killing tunnel 127.0.0.1:7860 <> https://9de889d7d5d2cf1d3c.gradio.live\n"
          ]
        },
        {
          "output_type": "execute_result",
          "data": {
            "text/plain": []
          },
          "metadata": {},
          "execution_count": 6
        }
      ]
    },
    {
      "cell_type": "code",
      "source": [
        "with gr.Blocks(theme=\"soft\") as interface:\n",
        "    gr.Markdown(\n",
        "        \"\"\"\n",
        "        # 🧩 Logic Puzzle Solver\n",
        "        Upload an image of a logic puzzle and let AI solve it for you!\n",
        "        \"\"\"\n",
        "    )\n",
        "\n",
        "    with gr.Row():\n",
        "        with gr.Column():\n",
        "            puzzle_input = gr.Image(label=\"Upload Puzzle\", type=\"pil\")\n",
        "            solve_button = gr.Button(\"Solve Puzzle\")\n",
        "        with gr.Column():\n",
        "            result = gr.Textbox(label=\"Solution\", placeholder=\"The solution will appear here.\")\n",
        "\n",
        "    solve_button.click(fn=solve_puzzle, inputs=puzzle_input, outputs=result)\n",
        "\n",
        "interface.launch(debug=True)\n"
      ],
      "metadata": {
        "colab": {
          "base_uri": "https://localhost:8080/",
          "height": 760
        },
        "id": "WuJUYErV53Lu",
        "outputId": "76dcd6f9-9f5f-4c22-eb3a-1631332fba67"
      },
      "execution_count": 7,
      "outputs": [
        {
          "output_type": "stream",
          "name": "stdout",
          "text": [
            "Running Gradio in a Colab notebook requires sharing enabled. Automatically setting `share=True` (you can turn this off by setting `share=False` in `launch()` explicitly).\n",
            "\n",
            "Colab notebook detected. This cell will run indefinitely so that you can see errors and logs. To turn off, set debug=False in launch().\n",
            "* Running on public URL: https://4e0c29dd637d985893.gradio.live\n",
            "\n",
            "This share link expires in 72 hours. For free permanent hosting and GPU upgrades, run `gradio deploy` from the terminal in the working directory to deploy to Hugging Face Spaces (https://huggingface.co/spaces)\n"
          ]
        },
        {
          "output_type": "display_data",
          "data": {
            "text/plain": [
              "<IPython.core.display.HTML object>"
            ],
            "text/html": [
              "<div><iframe src=\"https://4e0c29dd637d985893.gradio.live\" width=\"100%\" height=\"500\" allow=\"autoplay; camera; microphone; clipboard-read; clipboard-write;\" frameborder=\"0\" allowfullscreen></iframe></div>"
            ]
          },
          "metadata": {}
        },
        {
          "output_type": "stream",
          "name": "stdout",
          "text": [
            "Extracted text= 2 + 7 = 27 4+4 =24 5+ 9=42 6+ 0 = ?\n",
            "Refined text= 2 + 7  =  27 4+4  = 24 5+ 9 = 42 6+ 0  =  ?\n",
            "Extracted text= Simple Math Puzzle 1+4=5 2 + 5 = 12 3 + 6 = 21 8 + 11 = ?\n",
            "Refined text= Simple Math Puzzle 1+4 = 5 2 + 5  =  12 3 + 6  =  21 8 + 11  =  ?\n",
            "Keyboard interruption in main thread... closing server.\n",
            "Killing tunnel 127.0.0.1:7860 <> https://4e0c29dd637d985893.gradio.live\n"
          ]
        },
        {
          "output_type": "execute_result",
          "data": {
            "text/plain": []
          },
          "metadata": {},
          "execution_count": 7
        }
      ]
    },
    {
      "cell_type": "code",
      "source": [],
      "metadata": {
        "id": "mc70UmrC6Z19"
      },
      "execution_count": 7,
      "outputs": []
    }
  ]
}